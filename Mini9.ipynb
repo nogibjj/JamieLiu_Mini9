{
  "cells": [
    {
      "cell_type": "markdown",
      "id": "62ec8d2c",
      "metadata": {
        "id": "62ec8d2c"
      },
      "source": [
        "## Requirements and Dataset Overview"
      ]
    },
    {
      "cell_type": "code",
      "execution_count": null,
      "id": "13887a27",
      "metadata": {
        "id": "13887a27"
      },
      "outputs": [],
      "source": [
        "\n",
        "import pandas as pd\n",
        "import matplotlib.pyplot as plt\n",
        "\n",
        "# Dataset URL\n",
        "dataset_url = 'https://raw.githubusercontent.com/fivethirtyeight/data/master/airline-safety/airline-safety.csv'\n"
      ]
    },
    {
      "cell_type": "markdown",
      "id": "25959ad2",
      "metadata": {
        "id": "25959ad2"
      },
      "source": [
        "Airline Safety Data from [fivethirtyeight Airline Safety data](https://github.com/fivethirtyeight/data/tree/master/airline-safety)"
      ]
    },
    {
      "cell_type": "markdown",
      "id": "7aaecd6f",
      "metadata": {
        "id": "7aaecd6f"
      },
      "source": [
        "## Ingest"
      ]
    },
    {
      "cell_type": "code",
      "execution_count": null,
      "id": "8afe9b05",
      "metadata": {
        "id": "8afe9b05"
      },
      "outputs": [],
      "source": [
        "\n",
        "# Load dataset\n",
        "df = pd.read_csv(dataset_url)\n",
        "assert df is not None\n",
        "assert df.shape == (56, 8)  # Ensuring dataset shape is correct\n",
        "df.head()\n"
      ]
    },
    {
      "cell_type": "markdown",
      "id": "f2ed8be2",
      "metadata": {
        "id": "f2ed8be2"
      },
      "source": [
        "## Data Analysis"
      ]
    },
    {
      "cell_type": "code",
      "execution_count": null,
      "id": "c5a7fc88",
      "metadata": {
        "id": "c5a7fc88"
      },
      "outputs": [],
      "source": [
        "\n",
        "# Descriptive statistics\n",
        "general_stats = df.describe()\n",
        "general_stats\n"
      ]
    },
    {
      "cell_type": "markdown",
      "id": "eb735370",
      "metadata": {
        "id": "eb735370"
      },
      "source": [
        "## Data Visualizations"
      ]
    },
    {
      "cell_type": "markdown",
      "source": [
        "### Histogram for 1985-1999"
      ],
      "metadata": {
        "id": "JeERaDmpbgI7"
      },
      "id": "JeERaDmpbgI7"
    },
    {
      "cell_type": "code",
      "execution_count": null,
      "id": "2a721a69",
      "metadata": {
        "id": "2a721a69"
      },
      "outputs": [],
      "source": [
        "\n",
        "# Histogram for incidents (1985-1999)\n",
        "plt.figure(figsize=(10, 6))\n",
        "plt.hist(df['incidents_85_99'])\n",
        "plt.xlabel('Incidents (1985-1999)')\n",
        "plt.ylabel('Frequency')\n",
        "plt.title('Frequency of Incidents (1985-1999)')\n",
        "plt.show()\n"
      ]
    },
    {
      "cell_type": "code",
      "execution_count": null,
      "id": "d836af9a",
      "metadata": {
        "id": "d836af9a"
      },
      "outputs": [],
      "source": [
        "\n",
        "# Histogram for fatal accidents (1985-1999)\n",
        "plt.figure(figsize=(10, 6))\n",
        "plt.hist(df['fatal_accidents_85_99'])\n",
        "plt.xlabel('Fatal Accidents (1985-1999)')\n",
        "plt.ylabel('Frequency')\n",
        "plt.title('Frequency of Fatal Accidents (1985-1999)')\n",
        "plt.show()\n"
      ]
    },
    {
      "cell_type": "code",
      "execution_count": null,
      "id": "b36c6986",
      "metadata": {
        "id": "b36c6986"
      },
      "outputs": [],
      "source": [
        "\n",
        "# Histogram for fatalities (1985-1999)\n",
        "plt.figure(figsize=(10, 6))\n",
        "plt.hist(df['fatalities_85_99'])\n",
        "plt.xlabel('Fatalities (1985-1999)')\n",
        "plt.ylabel('Frequency')\n",
        "plt.title('Frequency of Fatalities (1985-1999)')\n",
        "plt.show()\n"
      ]
    },
    {
      "cell_type": "markdown",
      "source": [
        "### Histogram for 2000-2014"
      ],
      "metadata": {
        "id": "Qt5hVOUqbpoa"
      },
      "id": "Qt5hVOUqbpoa"
    },
    {
      "cell_type": "code",
      "source": [
        "\n",
        "# Histogram for incidents (2000-2014)\n",
        "plt.figure(figsize=(10, 6))\n",
        "plt.hist(df['incidents_00_14'])\n",
        "plt.xlabel('Incidents (2000-2014)')\n",
        "plt.ylabel('Frequency')\n",
        "plt.title('Frequency of Incidents (2000-2014)')\n",
        "plt.show()\n"
      ],
      "metadata": {
        "id": "SVDl7imybttF"
      },
      "id": "SVDl7imybttF",
      "execution_count": null,
      "outputs": []
    },
    {
      "cell_type": "code",
      "source": [
        "\n",
        "# Histogram for fatal accidents (2000-2014)\n",
        "plt.figure(figsize=(10, 6))\n",
        "plt.hist(df['fatal_accidents_00_14'])\n",
        "plt.xlabel('Fatal Accidents (2000-2014)')\n",
        "plt.ylabel('Frequency')\n",
        "plt.title('Frequency of Fatal Accidents (2000-2014)')\n",
        "plt.show()\n"
      ],
      "metadata": {
        "id": "Hi74bqK4btnZ"
      },
      "id": "Hi74bqK4btnZ",
      "execution_count": null,
      "outputs": []
    },
    {
      "cell_type": "code",
      "source": [
        "\n",
        "# Histogram for fatalities (2000-2014)\n",
        "plt.figure(figsize=(10, 6))\n",
        "plt.hist(df['fatalities_00_14'])\n",
        "plt.xlabel('Fatalities (2000-2014)')\n",
        "plt.ylabel('Frequency')\n",
        "plt.title('Frequency of Fatalities (2000-2014)')\n",
        "plt.show()\n"
      ],
      "metadata": {
        "id": "vuZ3-Xo_btHO"
      },
      "id": "vuZ3-Xo_btHO",
      "execution_count": null,
      "outputs": []
    },
    {
      "cell_type": "markdown",
      "source": [
        "### Bar chart for 1985-1999"
      ],
      "metadata": {
        "id": "hje9J5pmcDs1"
      },
      "id": "hje9J5pmcDs1"
    },
    {
      "cell_type": "code",
      "execution_count": null,
      "id": "522f3e7c",
      "metadata": {
        "id": "522f3e7c"
      },
      "outputs": [],
      "source": [
        "\n",
        "# Bar chart for incidents (1985-1999) across airlines\n",
        "plt.figure(figsize=(15, 10))\n",
        "plt.bar(df['airline'], df['incidents_85_99'])\n",
        "plt.xlabel('Airline')\n",
        "plt.ylabel('Incidents (1985-1999)')\n",
        "plt.title('Incidents (1985-1999) Across Airlines')\n",
        "plt.xticks(rotation=90, fontsize=8)\n",
        "plt.show()\n"
      ]
    },
    {
      "cell_type": "code",
      "execution_count": null,
      "id": "f824ea74",
      "metadata": {
        "id": "f824ea74"
      },
      "outputs": [],
      "source": [
        "\n",
        "# Bar chart for fatal accidents (1985-1999) across airlines\n",
        "plt.figure(figsize=(15, 10))\n",
        "plt.bar(df['airline'], df['fatal_accidents_85_99'])\n",
        "plt.xlabel('Airline')\n",
        "plt.ylabel('Fatal Accidents (1985-1999)')\n",
        "plt.title('Fatal Accidents (1985-1999) Across Airlines')\n",
        "plt.xticks(rotation=90, fontsize=8)\n",
        "plt.show()\n"
      ]
    },
    {
      "cell_type": "code",
      "execution_count": null,
      "id": "66952953",
      "metadata": {
        "id": "66952953"
      },
      "outputs": [],
      "source": [
        "\n",
        "# Bar chart for fatalities (1985-1999) across airlines\n",
        "plt.figure(figsize=(15, 10))\n",
        "plt.bar(df['airline'], df['fatalities_85_99'])\n",
        "plt.xlabel('Airline')\n",
        "plt.ylabel('Fatalities (1985-1999)')\n",
        "plt.title('Fatalities (1985-1999) Across Airlines')\n",
        "plt.xticks(rotation=90, fontsize=8)\n",
        "plt.show()\n"
      ]
    },
    {
      "cell_type": "markdown",
      "id": "d23a2f0a",
      "metadata": {
        "id": "d23a2f0a"
      },
      "source": [
        "### Bar Charts for 2000-2014"
      ]
    },
    {
      "cell_type": "code",
      "execution_count": null,
      "id": "1a82b452",
      "metadata": {
        "id": "1a82b452"
      },
      "outputs": [],
      "source": [
        "\n",
        "# Bar chart for incidents (2000-2014) across airlines\n",
        "plt.figure(figsize=(15, 10))\n",
        "plt.bar(df['airline'], df['incidents_00_14'])\n",
        "plt.xlabel('Airline')\n",
        "plt.ylabel('Incidents (2000-2014)')\n",
        "plt.title('Incidents (2000-2014) Across Airlines')\n",
        "plt.xticks(rotation=90, fontsize=8)\n",
        "plt.show()\n"
      ]
    },
    {
      "cell_type": "code",
      "execution_count": null,
      "id": "f74c32a2",
      "metadata": {
        "id": "f74c32a2"
      },
      "outputs": [],
      "source": [
        "\n",
        "# Bar chart for fatal accidents (2000-2014) across airlines\n",
        "plt.figure(figsize=(15, 10))\n",
        "plt.bar(df['airline'], df['fatal_accidents_00_14'])\n",
        "plt.xlabel('Airline')\n",
        "plt.ylabel('Fatal Accidents (2000-2014)')\n",
        "plt.title('Fatal Accidents (2000-2014) Across Airlines')\n",
        "plt.xticks(rotation=90, fontsize=8)\n",
        "plt.show()\n"
      ]
    },
    {
      "cell_type": "code",
      "execution_count": null,
      "id": "af35e66f",
      "metadata": {
        "id": "af35e66f"
      },
      "outputs": [],
      "source": [
        "\n",
        "# Bar chart for fatalities (2000-2014) across airlines\n",
        "plt.figure(figsize=(15, 10))\n",
        "plt.bar(df['airline'], df['fatalities_00_14'])\n",
        "plt.xlabel('Airline')\n",
        "plt.ylabel('Fatalities (2000-2014)')\n",
        "plt.title('Fatalities (2000-2014) Across Airlines')\n",
        "plt.xticks(rotation=90, fontsize=8)\n",
        "plt.show()\n"
      ]
    },
    {
      "cell_type": "markdown",
      "id": "949066a0",
      "metadata": {
        "id": "949066a0"
      },
      "source": [
        "### Scatter Plot for Incidents vs Fatalities (1985-1999)"
      ]
    },
    {
      "cell_type": "code",
      "execution_count": null,
      "id": "15b2ac70",
      "metadata": {
        "id": "15b2ac70"
      },
      "outputs": [],
      "source": [
        "\n",
        "# Scatter plot comparing incidents and fatalities for each airline (1985-1999)\n",
        "plt.figure(figsize=(10, 6))\n",
        "plt.scatter(df['incidents_85_99'], df['fatalities_85_99'], alpha=0.7)\n",
        "plt.xlabel('Incidents (1985-1999)')\n",
        "plt.ylabel('Fatalities (1985-1999)')\n",
        "plt.title('Scatter Plot of Incidents vs Fatalities (1985-1999)')\n",
        "plt.grid(True)\n",
        "plt.show()\n"
      ]
    },
    {
      "cell_type": "markdown",
      "id": "2cd35bda",
      "metadata": {
        "id": "2cd35bda"
      },
      "source": [
        "### Scatter Plot for Incidents vs Fatalities (2000-2014)"
      ]
    },
    {
      "cell_type": "code",
      "execution_count": null,
      "id": "77b47c5e",
      "metadata": {
        "id": "77b47c5e"
      },
      "outputs": [],
      "source": [
        "\n",
        "# Scatter plot comparing incidents and fatalities for each airline (2000-2014)\n",
        "plt.figure(figsize=(10, 6))\n",
        "plt.scatter(df['incidents_00_14'], df['fatalities_00_14'], alpha=0.7, color='orange')\n",
        "plt.xlabel('Incidents (2000-2014)')\n",
        "plt.ylabel('Fatalities (2000-2014)')\n",
        "plt.title('Scatter Plot of Incidents vs Fatalities (2000-2014)')\n",
        "plt.grid(True)\n",
        "plt.show()\n"
      ]
    },
    {
      "cell_type": "markdown",
      "id": "e1e9a787",
      "metadata": {
        "id": "e1e9a787"
      },
      "source": [
        "### Combined Scatter Plot for Incidents vs Fatalities (1985-1999 vs 2000-2014)"
      ]
    },
    {
      "cell_type": "code",
      "execution_count": null,
      "id": "a166ddae",
      "metadata": {
        "id": "a166ddae"
      },
      "outputs": [],
      "source": [
        "\n",
        "# Combined scatter plot for incidents vs fatalities for both periods (1985-1999 and 2000-2014)\n",
        "plt.figure(figsize=(10, 6))\n",
        "plt.scatter(df['incidents_85_99'], df['fatalities_85_99'], alpha=0.7, label='1985-1999', color='blue')\n",
        "plt.scatter(df['incidents_00_14'], df['fatalities_00_14'], alpha=0.7, label='2000-2014', color='orange')\n",
        "plt.xlabel('Incidents')\n",
        "plt.ylabel('Fatalities')\n",
        "plt.title('Combined Scatter Plot of Incidents vs Fatalities (1985-1999 vs 2000-2014)')\n",
        "plt.legend()\n",
        "plt.grid(True)\n",
        "plt.show()\n"
      ]
    }
  ],
  "metadata": {
    "colab": {
      "provenance": [],
      "toc_visible": true
    },
    "language_info": {
      "name": "python"
    },
    "kernelspec": {
      "name": "python3",
      "display_name": "Python 3"
    }
  },
  "nbformat": 4,
  "nbformat_minor": 5
}